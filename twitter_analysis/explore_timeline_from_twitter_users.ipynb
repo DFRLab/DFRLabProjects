{
 "cells": [
  {
   "cell_type": "markdown",
   "metadata": {},
   "source": [
    "### Explore Twitter users\n",
    "\n",
    "<br />\n",
    "\n",
    "This notebook explores Twitter users. It gets the first 200 tweets from each account.\n",
    "\n",
    "##### `Metrics`\n",
    "\n",
    "- word frequency\n",
    "- hashtags\n",
    "- mentions\n",
    "- amplification\n",
    "- activity\n",
    "- anonymity\n",
    "- network - user to user\n",
    "    - retweet\n",
    "    - reply\n",
    "    - mentions"
   ]
  },
  {
   "cell_type": "code",
   "execution_count": null,
   "metadata": {},
   "outputs": [],
   "source": [
    "# import sys\n",
    "import sys\n",
    "\n",
    "# add local modules to path\n",
    "module_path = '../modules/'\n",
    "if module_path not in sys.path:\n",
    "    sys.path.append(module_path)"
   ]
  },
  {
   "cell_type": "code",
   "execution_count": null,
   "metadata": {},
   "outputs": [],
   "source": [
    "# import modules\n",
    "from twitter import *\n",
    "import pandas as pd\n",
    "import json\n",
    "\n",
    "\n",
    "# import local modules\n",
    "from twitter_api import timeline_one_round, batch_timeline_one_round"
   ]
  },
  {
   "cell_type": "code",
   "execution_count": null,
   "metadata": {},
   "outputs": [],
   "source": []
  },
  {
   "cell_type": "markdown",
   "metadata": {},
   "source": [
    "*`load twitter credentials`*"
   ]
  },
  {
   "cell_type": "code",
   "execution_count": null,
   "metadata": {},
   "outputs": [],
   "source": [
    "with open('../_config/twitter_auth.json') as a:\n",
    "    auth = json.load(a)\n",
    "    a.close()"
   ]
  },
  {
   "cell_type": "markdown",
   "metadata": {},
   "source": [
    "*`connect to Twitter API`*"
   ]
  },
  {
   "cell_type": "code",
   "execution_count": null,
   "metadata": {},
   "outputs": [],
   "source": [
    "# Auth\n",
    "Auth = OAuth(**auth)\n",
    "cxn = Twitter(auth=Auth)"
   ]
  },
  {
   "cell_type": "code",
   "execution_count": null,
   "metadata": {},
   "outputs": [],
   "source": []
  },
  {
   "cell_type": "code",
   "execution_count": null,
   "metadata": {},
   "outputs": [],
   "source": [
    "kwargs = {\n",
    "    'screen_name': 'estebanpdl',\n",
    "    'exclude_replies': False,\n",
    "    'include_rts': True\n",
    "}"
   ]
  },
  {
   "cell_type": "code",
   "execution_count": null,
   "metadata": {},
   "outputs": [],
   "source": [
    "x = timeline_one_round(cxn, **kwargs)"
   ]
  },
  {
   "cell_type": "code",
   "execution_count": null,
   "metadata": {},
   "outputs": [],
   "source": []
  }
 ],
 "metadata": {
  "kernelspec": {
   "display_name": "Python 3",
   "language": "python",
   "name": "python3"
  },
  "language_info": {
   "codemirror_mode": {
    "name": "ipython",
    "version": 3
   },
   "file_extension": ".py",
   "mimetype": "text/x-python",
   "name": "python",
   "nbconvert_exporter": "python",
   "pygments_lexer": "ipython3",
   "version": "3.7.3"
  }
 },
 "nbformat": 4,
 "nbformat_minor": 2
}
