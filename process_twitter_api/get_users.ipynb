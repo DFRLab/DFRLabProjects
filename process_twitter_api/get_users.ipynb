{
 "cells": [
  {
   "cell_type": "code",
   "execution_count": null,
   "metadata": {},
   "outputs": [],
   "source": [
    "# warnings\n",
    "import warnings\n",
    "warnings.filterwarnings('ignore')\n",
    "\n",
    "# import modules\n",
    "from twitter import *\n",
    "from urllib.error import HTTPError\n",
    "import numpy as np\n",
    "import pandas as pd\n",
    "import json\n",
    "import time\n",
    "\n",
    "# plots\n",
    "import matplotlib\n",
    "import matplotlib.pyplot as plt\n",
    "import matplotlib.dates as mdates\n",
    "import seaborn as sns\n",
    "\n",
    "%matplotlib inline\n",
    "matplotlib.style.use('seaborn-ticks')"
   ]
  },
  {
   "cell_type": "code",
   "execution_count": null,
   "metadata": {},
   "outputs": [],
   "source": [
    "# temp util\n",
    "def timestamp_attrs(data, col='created_at', tz='America/Lima', passtz=True):\n",
    "    '''\n",
    "    '''\n",
    "    if passtz:\n",
    "        t = pd.to_datetime(\n",
    "            data[col],\n",
    "            utc=True,\n",
    "            infer_datetime_format=True\n",
    "        ).apply(lambda x: x.tz_convert(tz))\n",
    "    else:\n",
    "        t = pd.to_datetime(\n",
    "            data[col],\n",
    "            infer_datetime_format=True\n",
    "        )\n",
    "\n",
    "    data[f'{col}_timestamp'] = t\n",
    "    data[f'{col}'] = t.dt.strftime('%Y-%m-%d')\n",
    "    data[f'{col}_year'] = t.dt.year\n",
    "    data[f'{col}_month'] = t.dt.month\n",
    "    data[f'{col}_day'] = t.dt.day\n",
    "    data[f'{col}_hour'] = t.dt.hour\n",
    "    data[f'{col}_weekday'] = t.dt.dayofweek\n",
    "    data[f'{col}_time_hour'] = t.dt.strftime('%H:%M:%S')\n",
    "    \n",
    "    return data"
   ]
  },
  {
   "cell_type": "code",
   "execution_count": null,
   "metadata": {},
   "outputs": [],
   "source": []
  },
  {
   "cell_type": "markdown",
   "metadata": {},
   "source": [
    "**`Twitter Auth`**"
   ]
  },
  {
   "cell_type": "code",
   "execution_count": null,
   "metadata": {},
   "outputs": [],
   "source": [
    "# read credentials\n",
    "with open('../_config/twitter_auth.json') as f:\n",
    "    auth = json.load(f)\n",
    "    f.close()\n",
    "\n",
    "# Auth\n",
    "Auth = OAuth(**auth)\n",
    "\n",
    "# connection\n",
    "cxn = Twitter(auth=Auth)"
   ]
  },
  {
   "cell_type": "code",
   "execution_count": null,
   "metadata": {},
   "outputs": [],
   "source": []
  },
  {
   "cell_type": "markdown",
   "metadata": {},
   "source": [
    "**`Get users`**"
   ]
  },
  {
   "cell_type": "markdown",
   "metadata": {},
   "source": [
    "    path = 'C:/Users/Usuario/Downloads/1EDITtop_authorsSolidaridad_Hermandad.txt'\n",
    "    data = [i.rstrip() for i in open(path, mode='r', encoding='utf-8')]"
   ]
  },
  {
   "cell_type": "code",
   "execution_count": null,
   "metadata": {},
   "outputs": [],
   "source": [
    "path = 'C:/i/repositories/DigitalResearch/data/kpop/users_by_engagement_no_rts.csv'\n",
    "data = pd.read_csv(path, encoding='utf-8', converters={'id_str': str})\n",
    "data.shape"
   ]
  },
  {
   "cell_type": "code",
   "execution_count": null,
   "metadata": {},
   "outputs": [],
   "source": [
    "data['id_str'].unique().shape"
   ]
  },
  {
   "cell_type": "code",
   "execution_count": null,
   "metadata": {},
   "outputs": [],
   "source": [
    "data['id_str'].value_counts().head()"
   ]
  },
  {
   "cell_type": "code",
   "execution_count": null,
   "metadata": {},
   "outputs": [],
   "source": [
    "data_ = data['id_str'].unique().tolist()"
   ]
  },
  {
   "cell_type": "code",
   "execution_count": null,
   "metadata": {},
   "outputs": [],
   "source": [
    "print (f'Total n of accounts ---> {len(data_)}')"
   ]
  },
  {
   "cell_type": "code",
   "execution_count": null,
   "metadata": {},
   "outputs": [],
   "source": [
    "division = 100\n",
    "ids = [data_[i: i + division] for i in range(0, len(data_), division)]\n",
    "print (f'Total n of batches ----> {len(ids)}')"
   ]
  },
  {
   "cell_type": "code",
   "execution_count": null,
   "metadata": {},
   "outputs": [],
   "source": [
    "all_ = []\n",
    "for accounts in ids:\n",
    "    users_lookup = cxn.users.lookup(user_id=','.join(accounts))\n",
    "    all_.extend(users_lookup)"
   ]
  },
  {
   "cell_type": "code",
   "execution_count": null,
   "metadata": {},
   "outputs": [],
   "source": [
    "print (f'Total data downloaded ---> {len(all_)}')"
   ]
  },
  {
   "cell_type": "code",
   "execution_count": null,
   "metadata": {},
   "outputs": [],
   "source": []
  },
  {
   "cell_type": "code",
   "execution_count": null,
   "metadata": {},
   "outputs": [],
   "source": []
  },
  {
   "cell_type": "markdown",
   "metadata": {},
   "source": [
    "**`Save data as json`**"
   ]
  },
  {
   "cell_type": "code",
   "execution_count": null,
   "metadata": {},
   "outputs": [],
   "source": [
    "# save data as json\n",
    "save_path = 'C:/i/repositories/DigitalResearch/data/kpop/users_by_engagement_no_rts.json'\n",
    "objects = json.dumps(all_, ensure_ascii=False, indent=2)\n",
    "writer = open(save_path, mode='w', encoding='utf-8')\n",
    "writer.write(objects)\n",
    "writer.close()"
   ]
  },
  {
   "cell_type": "code",
   "execution_count": null,
   "metadata": {},
   "outputs": [],
   "source": []
  },
  {
   "cell_type": "code",
   "execution_count": null,
   "metadata": {},
   "outputs": [],
   "source": []
  },
  {
   "cell_type": "code",
   "execution_count": null,
   "metadata": {},
   "outputs": [],
   "source": []
  },
  {
   "cell_type": "code",
   "execution_count": null,
   "metadata": {},
   "outputs": [],
   "source": [
    "miss = [i for i in data if i not in [j['id_str'] for j in all_]]\n",
    "len(miss)"
   ]
  },
  {
   "cell_type": "code",
   "execution_count": null,
   "metadata": {},
   "outputs": [],
   "source": [
    "data = pd.read_csv(path, encoding='utf-8', converters={'id': str})\n",
    "data.shape"
   ]
  },
  {
   "cell_type": "code",
   "execution_count": null,
   "metadata": {},
   "outputs": [],
   "source": [
    "miss_names = data[data['id'].isin(miss)]['author'].tolist()\n",
    "print (miss_names)"
   ]
  },
  {
   "cell_type": "code",
   "execution_count": null,
   "metadata": {},
   "outputs": [],
   "source": []
  },
  {
   "cell_type": "code",
   "execution_count": null,
   "metadata": {},
   "outputs": [],
   "source": [
    "writer = open('C:/i/repositories/DigitalResearch/data/sputnik_audience/other_link_sharing_twitter_missing.txt', mode='a')\n",
    "for author in miss_names:\n",
    "    writer.write(f'{author}\\n')\n",
    "writer.close()"
   ]
  },
  {
   "cell_type": "code",
   "execution_count": null,
   "metadata": {},
   "outputs": [],
   "source": []
  },
  {
   "cell_type": "code",
   "execution_count": null,
   "metadata": {},
   "outputs": [],
   "source": []
  },
  {
   "cell_type": "markdown",
   "metadata": {},
   "source": [
    "**`Plot creation date`**"
   ]
  },
  {
   "cell_type": "code",
   "execution_count": null,
   "metadata": {},
   "outputs": [],
   "source": [
    "p = 'C:/i/repositories/DigitalResearch/data/bolivian_elections/Pro-MAS_top_authors_twitter_api.json'\n",
    "with open(p, encoding='utf-8') as f:\n",
    "    dataset = json.load(f)\n",
    "    f.close()\n",
    "    \n",
    "# total data\n",
    "print (f'total accounts --> {len(dataset)}')"
   ]
  },
  {
   "cell_type": "code",
   "execution_count": null,
   "metadata": {},
   "outputs": [],
   "source": [
    "# create dataframe\n",
    "df = pd.DataFrame.from_dict(dataset)\n",
    "df.shape"
   ]
  },
  {
   "cell_type": "code",
   "execution_count": null,
   "metadata": {},
   "outputs": [],
   "source": [
    "# format creation date\n",
    "df = timestamp_attrs(df, tz='America/La_Paz')"
   ]
  },
  {
   "cell_type": "code",
   "execution_count": null,
   "metadata": {},
   "outputs": [],
   "source": [
    "df.shape"
   ]
  },
  {
   "cell_type": "code",
   "execution_count": null,
   "metadata": {},
   "outputs": [],
   "source": [
    "df['counter'] = 1"
   ]
  },
  {
   "cell_type": "code",
   "execution_count": null,
   "metadata": {},
   "outputs": [],
   "source": [
    "_key_ = 'created_at'\n",
    "df_gpo = df.groupby(_key_) \\\n",
    "    .agg({'counter': sum}) \\\n",
    "    .reset_index()\n",
    "\n",
    "# format date\n",
    "df_gpo.head()"
   ]
  },
  {
   "cell_type": "code",
   "execution_count": null,
   "metadata": {},
   "outputs": [],
   "source": [
    "df_gpo[_key_] = pd.to_datetime(df_gpo[_key_])"
   ]
  },
  {
   "cell_type": "code",
   "execution_count": null,
   "metadata": {},
   "outputs": [],
   "source": [
    "df_gpo[_key_].iloc[0]"
   ]
  },
  {
   "cell_type": "code",
   "execution_count": null,
   "metadata": {},
   "outputs": [],
   "source": [
    "df_gpo = df_gpo[df_gpo[_key_] >= '2019-08-01']"
   ]
  },
  {
   "cell_type": "code",
   "execution_count": null,
   "metadata": {},
   "outputs": [],
   "source": [
    "fig, ax = plt.subplots(figsize=(16,8))\n",
    "\n",
    "# palette\n",
    "cm = sns.dark_palette((260, 75, 60), input='husl', n_colors=1, reverse=True, as_cmap=True)\n",
    "sns.lineplot(x=_key_, y='counter', data=df_gpo, linewidth=1,\n",
    "             ax=ax, alpha=0.5, legend=False, palette=cm)\n",
    "\n",
    "# set ticks every hour\n",
    "ax.xaxis.set_major_locator(mdates.MonthLocator())\n",
    "\n",
    "# set major ticks format\n",
    "ax.xaxis.set_major_formatter(mdates.DateFormatter('%b\\n%Y'))\n",
    "ax.tick_params(direction='out', color='#878dac', labelsize=13, rotation=0, pad=15,\n",
    "               labelcolor='#878dac')\n",
    "\n",
    "ax.set_ylabel('Number of accounts', labelpad=35, fontsize=18)\n",
    "ax.set_xlabel('Creation date', labelpad=35, fontsize=18)\n",
    "plt.box(False);"
   ]
  },
  {
   "cell_type": "code",
   "execution_count": null,
   "metadata": {},
   "outputs": [],
   "source": []
  },
  {
   "cell_type": "code",
   "execution_count": null,
   "metadata": {},
   "outputs": [],
   "source": []
  }
 ],
 "metadata": {
  "kernelspec": {
   "display_name": "Python 3",
   "language": "python",
   "name": "python3"
  },
  "language_info": {
   "codemirror_mode": {
    "name": "ipython",
    "version": 3
   },
   "file_extension": ".py",
   "mimetype": "text/x-python",
   "name": "python",
   "nbconvert_exporter": "python",
   "pygments_lexer": "ipython3",
   "version": "3.7.3"
  }
 },
 "nbformat": 4,
 "nbformat_minor": 2
}
