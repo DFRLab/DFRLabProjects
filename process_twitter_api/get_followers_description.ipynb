{
 "cells": [
  {
   "cell_type": "code",
   "execution_count": null,
   "metadata": {},
   "outputs": [],
   "source": [
    "# import modules\n",
    "from twitter import *\n",
    "from urllib.error import HTTPError\n",
    "import pandas as pd\n",
    "import json\n",
    "import time"
   ]
  },
  {
   "cell_type": "code",
   "execution_count": null,
   "metadata": {},
   "outputs": [],
   "source": []
  },
  {
   "cell_type": "code",
   "execution_count": null,
   "metadata": {},
   "outputs": [],
   "source": []
  },
  {
   "cell_type": "code",
   "execution_count": null,
   "metadata": {},
   "outputs": [],
   "source": [
    "# temp util\n",
    "def timestamp_attrs(data, col='created_at', tz='America/Bogota', passtz=True):\n",
    "    '''\n",
    "    '''\n",
    "    if passtz:\n",
    "        t = pd.to_datetime(\n",
    "            data[col],\n",
    "            utc=True,\n",
    "            infer_datetime_format=True\n",
    "        ).apply(lambda x: x.tz_convert(tz))\n",
    "    else:\n",
    "        t = pd.to_datetime(\n",
    "            data[col],\n",
    "            infer_datetime_format=True\n",
    "        )\n",
    "\n",
    "    data[f'{col}_timestamp'] = t\n",
    "    data[f'{col}'] = t.dt.strftime('%Y-%m-%d')\n",
    "    data[f'{col}_year'] = t.dt.year\n",
    "    data[f'{col}_month'] = t.dt.month\n",
    "    data[f'{col}_day'] = t.dt.day\n",
    "    data[f'{col}_hour'] = t.dt.hour\n",
    "    data[f'{col}_weekday'] = t.dt.dayofweek\n",
    "    data[f'{col}_time_hour'] = t.dt.strftime('%H:%M:%S')\n",
    "    \n",
    "    return data"
   ]
  },
  {
   "cell_type": "code",
   "execution_count": null,
   "metadata": {},
   "outputs": [],
   "source": []
  },
  {
   "cell_type": "markdown",
   "metadata": {},
   "source": [
    "**`Twitter Auth`**"
   ]
  },
  {
   "cell_type": "code",
   "execution_count": null,
   "metadata": {},
   "outputs": [],
   "source": [
    "# read credentials\n",
    "with open('../_config/twitter_auth.json') as f:\n",
    "    auth = json.load(f)\n",
    "    f.close()\n",
    "\n",
    "# Auth\n",
    "Auth = OAuth(**auth)\n",
    "\n",
    "# connection\n",
    "cxn = Twitter(auth=Auth)"
   ]
  },
  {
   "cell_type": "code",
   "execution_count": null,
   "metadata": {},
   "outputs": [],
   "source": [
    "# get followers\n",
    "def get_followers(username, count=5000, get_all=True):\n",
    "    '''\n",
    "    '''\n",
    "    followers = []\n",
    "    params = {\n",
    "        'screen_name': username,\n",
    "        'cursor': -1,\n",
    "        'stringify_ids': True,\n",
    "        'count': count\n",
    "    }\n",
    "    \n",
    "    users = cxn.followers.ids(**params)\n",
    "    followers.extend(users['ids'])\n",
    "    cursor = users['next_cursor']\n",
    "    \n",
    "    # iterate\n",
    "    if get_all != True:\n",
    "        return followers\n",
    "    else:\n",
    "        while cursor != 0:\n",
    "            try:\n",
    "                users = cxn.followers.ids(**params)\n",
    "                followers.extend(users['ids'])\n",
    "                cursor = users['next_cursor']\n",
    "            except (TwitterHTTPError, HTTPError):\n",
    "                status = cxn.application.rate_limit_status()\n",
    "                \n",
    "                remain = status['resources']['followers']['/followers/ids']['remaining']\n",
    "                reset = status['resources']['followers']['/followers/ids']['reset']\n",
    "                \n",
    "                if remain <= 10:\n",
    "                    sleep_for = int(reset - time.time()) + 10\n",
    "                    time.sleep(sleep_for)\n",
    "                \n",
    "                continue\n",
    "        \n",
    "        return followers"
   ]
  },
  {
   "cell_type": "code",
   "execution_count": null,
   "metadata": {},
   "outputs": [],
   "source": [
    "username = 'TJ16762413'\n",
    "followers = get_followers(username)"
   ]
  },
  {
   "cell_type": "code",
   "execution_count": null,
   "metadata": {},
   "outputs": [],
   "source": [
    "print (f'Number of followers {len(followers)}')"
   ]
  },
  {
   "cell_type": "code",
   "execution_count": null,
   "metadata": {},
   "outputs": [],
   "source": []
  },
  {
   "cell_type": "markdown",
   "metadata": {},
   "source": [
    "*`Explore followers`*"
   ]
  },
  {
   "cell_type": "code",
   "execution_count": null,
   "metadata": {},
   "outputs": [],
   "source": [
    "division = 100\n",
    "ids = [followers[i: i + division] for i in range(0, len(followers), division)]\n",
    "all_ = []\n",
    "for accounts in ids:\n",
    "    users_lookup = cxn.users.lookup(user_id=','.join(accounts))\n",
    "    all_.extend(users_lookup)\n",
    "    \n",
    "print (f'Metadata -> {len(all_)}')"
   ]
  },
  {
   "cell_type": "code",
   "execution_count": null,
   "metadata": {},
   "outputs": [],
   "source": [
    "df = pd.DataFrame.from_dict(all_)\n",
    "df.shape"
   ]
  },
  {
   "cell_type": "code",
   "execution_count": null,
   "metadata": {},
   "outputs": [],
   "source": []
  },
  {
   "cell_type": "markdown",
   "metadata": {},
   "source": [
    "*`load columns order`*"
   ]
  },
  {
   "cell_type": "code",
   "execution_count": null,
   "metadata": {},
   "outputs": [],
   "source": [
    "order = [i.rstrip() for i in open('../assets/get_followers/columns_order.txt', encoding='utf-8')]"
   ]
  },
  {
   "cell_type": "markdown",
   "metadata": {},
   "source": [
    "*`create dataset`*"
   ]
  },
  {
   "cell_type": "code",
   "execution_count": null,
   "metadata": {},
   "outputs": [],
   "source": [
    "dataset = timestamp_attrs(df, tz='America/New_York')"
   ]
  },
  {
   "cell_type": "code",
   "execution_count": null,
   "metadata": {},
   "outputs": [],
   "source": [
    "dataset = dataset[order].copy()"
   ]
  },
  {
   "cell_type": "code",
   "execution_count": null,
   "metadata": {},
   "outputs": [],
   "source": [
    "dataset['created_at_timestamp'] = dataset['created_at_timestamp'].astype(str)"
   ]
  },
  {
   "cell_type": "code",
   "execution_count": null,
   "metadata": {},
   "outputs": [],
   "source": [
    "path = f'../_data/followers_resilience/{username}_followers.xlsx'\n",
    "dataset.to_excel(path, index=False)"
   ]
  },
  {
   "cell_type": "code",
   "execution_count": null,
   "metadata": {},
   "outputs": [],
   "source": [
    "df[['screen_name', 'created_at']]"
   ]
  },
  {
   "cell_type": "code",
   "execution_count": null,
   "metadata": {},
   "outputs": [],
   "source": []
  }
 ],
 "metadata": {
  "kernelspec": {
   "display_name": "Python 3",
   "language": "python",
   "name": "python3"
  },
  "language_info": {
   "codemirror_mode": {
    "name": "ipython",
    "version": 3
   },
   "file_extension": ".py",
   "mimetype": "text/x-python",
   "name": "python",
   "nbconvert_exporter": "python",
   "pygments_lexer": "ipython3",
   "version": "3.7.3"
  }
 },
 "nbformat": 4,
 "nbformat_minor": 2
}
